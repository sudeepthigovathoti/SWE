{
  "nbformat": 4,
  "nbformat_minor": 0,
  "metadata": {
    "colab": {
      "provenance": [],
      "include_colab_link": true
    },
    "kernelspec": {
      "name": "python3",
      "display_name": "Python 3"
    },
    "language_info": {
      "name": "python"
    }
  },
  "cells": [
    {
      "cell_type": "markdown",
      "metadata": {
        "id": "view-in-github",
        "colab_type": "text"
      },
      "source": [
        "<a href=\"https://colab.research.google.com/github/sudeepthigovathoti/SWE/blob/main/SE_Exp_1.ipynb\" target=\"_parent\"><img src=\"https://colab.research.google.com/assets/colab-badge.svg\" alt=\"Open In Colab\"/></a>"
      ]
    },
    {
      "cell_type": "markdown",
      "source": [
        "**1.Implement weather modeling using the quadratic solution in stages: hard-coding variables\n",
        "keyboard input, read from a file, for a single set of input, multiple sets of inputs.**\n",
        "\n",
        "**a. save all versions, debug, fix problems, create a Github account**"
      ],
      "metadata": {
        "id": "d6K4E6gIkKMa"
      }
    },
    {
      "cell_type": "markdown",
      "source": [
        "**1.\tHardcoding variables.**"
      ],
      "metadata": {
        "id": "tgEDyqXZkxTG"
      }
    },
    {
      "cell_type": "code",
      "execution_count": null,
      "metadata": {
        "id": "nEzgTz52gb5S"
      },
      "outputs": [],
      "source": [
        "# Quadratic Formula: ax^2 + bx + c = 0\n",
        "import math\n",
        "\n",
        "# Hard-coded coefficients\n",
        "a = 1\n",
        "b = -3\n",
        "c = 2\n",
        "\n",
        "# Quadratic formula solution\n",
        "def solve_quadratic(a, b, c):\n",
        "    discriminant = b**2 - 4*a*c\n",
        "    if discriminant > 0:\n",
        "        root1 = (-b + math.sqrt(discriminant)) / (2*a)\n",
        "        root2 = (-b - math.sqrt(discriminant)) / (2*a)\n",
        "        return root1, root2\n",
        "    elif discriminant == 0:\n",
        "        root = -b / (2*a)\n",
        "        return root, None\n",
        "    else:\n",
        "        return None, None  # No real roots\n"
      ]
    },
    {
      "cell_type": "code",
      "source": [
        "# Solve for hard-coded values\n",
        "roots = solve_quadratic(a, b, c)\n",
        "print(\"Roots (hardcoded):\", roots)"
      ],
      "metadata": {
        "colab": {
          "base_uri": "https://localhost:8080/"
        },
        "id": "UdByVRFehELH",
        "outputId": "10c0c97d-a691-4436-a274-91b17300d560"
      },
      "execution_count": null,
      "outputs": [
        {
          "output_type": "stream",
          "name": "stdout",
          "text": [
            "Roots (hardcoded): (2.0, 1.0)\n"
          ]
        }
      ]
    },
    {
      "cell_type": "markdown",
      "source": [
        "**2.\tAccepting variables via keyboard input**"
      ],
      "metadata": {
        "id": "XwHIyETJk60I"
      }
    },
    {
      "cell_type": "code",
      "source": [
        "# Get coefficients from user input\n",
        "a = float(input(\"Enter coefficient a: \"))\n",
        "b = float(input(\"Enter coefficient b: \"))\n",
        "c = float(input(\"Enter coefficient c: \"))\n",
        "\n",
        "# Solve and print the results\n",
        "roots = solve_quadratic(a, b, c)\n",
        "print(\"Roots (user input):\", roots)\n"
      ],
      "metadata": {
        "colab": {
          "base_uri": "https://localhost:8080/"
        },
        "id": "30qSiOirhKI4",
        "outputId": "c69789be-8f6d-4df5-90d1-3fec9c8790e0"
      },
      "execution_count": null,
      "outputs": [
        {
          "output_type": "stream",
          "name": "stdout",
          "text": [
            "Enter coefficient a: 2\n",
            "Enter coefficient b: -3\n",
            "Enter coefficient c: 1\n",
            "Roots (user input): (1.0, 0.5)\n"
          ]
        }
      ]
    },
    {
      "cell_type": "markdown",
      "source": [
        "**3.Reading Variables from a File**"
      ],
      "metadata": {
        "id": "XD2cSO7vlWjQ"
      }
    },
    {
      "cell_type": "code",
      "source": [
        "# Read coefficients from a file\n",
        "def read_from_file(filename):\n",
        "    with open(filename, 'r') as file:\n",
        "        lines = file.readlines()\n",
        "    coefficients = [tuple(map(float, line.strip().split(','))) for line in lines]\n",
        "    return coefficients\n"
      ],
      "metadata": {
        "id": "0sr0IJq7hUrd"
      },
      "execution_count": null,
      "outputs": []
    },
    {
      "cell_type": "markdown",
      "source": [
        "**4.\tProcessing a single set of inputs.**"
      ],
      "metadata": {
        "id": "KKSh083BmMg9"
      }
    },
    {
      "cell_type": "code",
      "source": [
        "# Example: Solve for a single set of inputs\n",
        "coefficients = read_from_file('/content/input1.txt')\n",
        "a, b, c = coefficients[2]  # First set of coefficients\n",
        "roots = solve_quadratic(a, b, c)\n",
        "print(\"Roots (file input - single set):\", roots)"
      ],
      "metadata": {
        "colab": {
          "base_uri": "https://localhost:8080/"
        },
        "id": "Eyjot4fNmKZO",
        "outputId": "e880789e-2082-437d-f696-2c742a549352"
      },
      "execution_count": null,
      "outputs": [
        {
          "output_type": "stream",
          "name": "stdout",
          "text": [
            "Roots (file input - single set): (1.0, -3.0)\n"
          ]
        }
      ]
    },
    {
      "cell_type": "markdown",
      "source": [
        "**5.Processing multiple sets of inputs**"
      ],
      "metadata": {
        "id": "KlJrVI68lfi-"
      }
    },
    {
      "cell_type": "code",
      "source": [
        "# Solve for all sets in the file\n",
        "for idx, (a, b, c) in enumerate(coefficients):\n",
        "    roots = solve_quadratic(a, b, c)\n",
        "    print(f\"Roots (set {idx+1}): {roots}\")\n"
      ],
      "metadata": {
        "colab": {
          "base_uri": "https://localhost:8080/"
        },
        "id": "Uuekel9AiXCF",
        "outputId": "fd404210-2345-4276-fd7e-db17e0bd9eae"
      },
      "execution_count": null,
      "outputs": [
        {
          "output_type": "stream",
          "name": "stdout",
          "text": [
            "Roots (set 1): (4.0, 3.0)\n",
            "Roots (set 2): (3.0, 2.0)\n",
            "Roots (set 3): (1.0, -3.0)\n"
          ]
        }
      ]
    },
    {
      "cell_type": "code",
      "source": [],
      "metadata": {
        "id": "aDzPXHYuFVFH"
      },
      "execution_count": null,
      "outputs": []
    }
  ]
}